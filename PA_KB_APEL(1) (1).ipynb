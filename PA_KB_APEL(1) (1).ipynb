{
  "nbformat": 4,
  "nbformat_minor": 5,
  "metadata": {
    "colab": {
      "name": "PA_KB_APEL(1).ipynb",
      "provenance": [],
      "collapsed_sections": [
        "ab9b2866",
        "82e1d2dc",
        "a9b2561e",
        "23139305",
        "6a437508",
        "4421dff6",
        "b9d98e2d",
        "4a3be64b",
        "51b61da6",
        "127e9630",
        "ed27aad1",
        "e305fe70",
        "8d5ba2a1",
        "a4c389ca",
        "f72cb39d",
        "df30628d",
        "6b31328b",
        "fb82556b",
        "ab9f7160",
        "427f33a8"
      ]
    },
    "kernelspec": {
      "display_name": "Python 3",
      "language": "python",
      "name": "python3"
    },
    "language_info": {
      "codemirror_mode": {
        "name": "ipython",
        "version": 3
      },
      "file_extension": ".py",
      "mimetype": "text/x-python",
      "name": "python",
      "nbconvert_exporter": "python",
      "pygments_lexer": "ipython3",
      "version": "3.8.8"
    }
  },
  "cells": [
    {
      "cell_type": "markdown",
      "metadata": {
        "id": "d926df53"
      },
      "source": [
        "# CAR PRICE PREDICTION"
      ],
      "id": "d926df53"
    },
    {
      "cell_type": "markdown",
      "metadata": {
        "id": "67a59f1a"
      },
      "source": [
        "Import Library"
      ],
      "id": "67a59f1a"
    },
    {
      "cell_type": "code",
      "metadata": {
        "id": "bc59b347"
      },
      "source": [
        "import pandas as pd\n",
        "import numpy as np\n",
        "import matplotlib.pyplot as plt\n",
        "import seaborn as sns\n",
        "from matplotlib.pyplot import xticks\n",
        "from sklearn.metrics import mean_squared_error, mean_absolute_error\n",
        "# supress warnings\n",
        "import warnings\n",
        "warnings.filterwarnings('ignore')\n",
        "%matplotlib inline"
      ],
      "id": "bc59b347",
      "execution_count": null,
      "outputs": []
    },
    {
      "cell_type": "markdown",
      "metadata": {
        "id": "3b7f1e72"
      },
      "source": [
        "Membaca File CSV"
      ],
      "id": "3b7f1e72"
    },
    {
      "cell_type": "code",
      "metadata": {
        "id": "9b6bddda"
      },
      "source": [
        "car=pd.read_csv('quikr_car.csv')"
      ],
      "id": "9b6bddda",
      "execution_count": null,
      "outputs": []
    },
    {
      "cell_type": "markdown",
      "metadata": {
        "id": "a2230715"
      },
      "source": [
        "# ===================| PRE-PROCESSING |======================="
      ],
      "id": "a2230715"
    },
    {
      "cell_type": "markdown",
      "metadata": {
        "id": "d7f5ebb6"
      },
      "source": [
        "## Sebelum Pre-Processing"
      ],
      "id": "d7f5ebb6"
    },
    {
      "cell_type": "code",
      "metadata": {
        "id": "51442616"
      },
      "source": [
        "car"
      ],
      "id": "51442616",
      "execution_count": null,
      "outputs": []
    },
    {
      "cell_type": "code",
      "metadata": {
        "id": "21fe26cc"
      },
      "source": [
        "car.describe()"
      ],
      "id": "21fe26cc",
      "execution_count": null,
      "outputs": []
    },
    {
      "cell_type": "code",
      "metadata": {
        "id": "ee79d975"
      },
      "source": [
        "car.info()"
      ],
      "id": "ee79d975",
      "execution_count": null,
      "outputs": []
    },
    {
      "cell_type": "code",
      "metadata": {
        "id": "f646449a"
      },
      "source": [
        "car.shape"
      ],
      "id": "f646449a",
      "execution_count": null,
      "outputs": []
    },
    {
      "cell_type": "markdown",
      "metadata": {
        "id": "8afab33a"
      },
      "source": [
        "## PRE-PROCESSING DATA"
      ],
      "id": "8afab33a"
    },
    {
      "cell_type": "markdown",
      "metadata": {
        "id": "be1be151"
      },
      "source": [
        "### CLEANING DATA"
      ],
      "id": "be1be151"
    },
    {
      "cell_type": "code",
      "metadata": {
        "id": "b701ac61"
      },
      "source": [
        "backup=car.copy()"
      ],
      "id": "b701ac61",
      "execution_count": null,
      "outputs": []
    },
    {
      "cell_type": "markdown",
      "metadata": {
        "id": "40e02c54"
      },
      "source": [
        "### Menghapus Duplicated"
      ],
      "id": "40e02c54"
    },
    {
      "cell_type": "code",
      "metadata": {
        "id": "fcb4ca77"
      },
      "source": [
        "car.duplicated().sum()"
      ],
      "id": "fcb4ca77",
      "execution_count": null,
      "outputs": []
    },
    {
      "cell_type": "code",
      "metadata": {
        "id": "8077fc9e"
      },
      "source": [
        "car=car.drop_duplicates()"
      ],
      "id": "8077fc9e",
      "execution_count": null,
      "outputs": []
    },
    {
      "cell_type": "markdown",
      "metadata": {
        "id": "ab9b2866"
      },
      "source": [
        "### Menghapus Data yang kosong (Handling Missing Value)"
      ],
      "id": "ab9b2866"
    },
    {
      "cell_type": "code",
      "metadata": {
        "id": "1a4be019"
      },
      "source": [
        "car=car.dropna()"
      ],
      "id": "1a4be019",
      "execution_count": null,
      "outputs": []
    },
    {
      "cell_type": "markdown",
      "metadata": {
        "id": "82e1d2dc"
      },
      "source": [
        "### Menghapus non year values"
      ],
      "id": "82e1d2dc"
    },
    {
      "cell_type": "code",
      "metadata": {
        "id": "4cba5c3c"
      },
      "source": [
        "car=car[car['year'].str.isnumeric()]"
      ],
      "id": "4cba5c3c",
      "execution_count": null,
      "outputs": []
    },
    {
      "cell_type": "markdown",
      "metadata": {
        "id": "a9b2561e"
      },
      "source": [
        "### Mengganti Dtype year dari object ke int"
      ],
      "id": "a9b2561e"
    },
    {
      "cell_type": "code",
      "metadata": {
        "id": "a2cc86a9"
      },
      "source": [
        "car['year']=car['year'].astype(int)"
      ],
      "id": "a2cc86a9",
      "execution_count": null,
      "outputs": []
    },
    {
      "cell_type": "markdown",
      "metadata": {
        "id": "23139305"
      },
      "source": [
        "### Menghapus Ask For Price Di Kolom Price"
      ],
      "id": "23139305"
    },
    {
      "cell_type": "code",
      "metadata": {
        "id": "a02355bc"
      },
      "source": [
        "car=car[car['Price']!=\"Ask For Price\"]"
      ],
      "id": "a02355bc",
      "execution_count": null,
      "outputs": []
    },
    {
      "cell_type": "markdown",
      "metadata": {
        "id": "6a437508"
      },
      "source": [
        "### Menghapus tanda koma di kolom price dan menganti Dtype dari object ke int"
      ],
      "id": "6a437508"
    },
    {
      "cell_type": "code",
      "metadata": {
        "id": "3b8df4ae"
      },
      "source": [
        "car['Price']=car['Price'].str.replace(',','').astype(int)"
      ],
      "id": "3b8df4ae",
      "execution_count": null,
      "outputs": []
    },
    {
      "cell_type": "markdown",
      "metadata": {
        "id": "4421dff6"
      },
      "source": [
        "### Menghapus tanda koma di kolom kms_driven dan menganti Dtype dari object ke int"
      ],
      "id": "4421dff6"
    },
    {
      "cell_type": "code",
      "metadata": {
        "id": "ef35504c"
      },
      "source": [
        "car['kms_driven']=car['kms_driven'].str.split(' ').str.get(0).str.replace(',','')"
      ],
      "id": "ef35504c",
      "execution_count": null,
      "outputs": []
    },
    {
      "cell_type": "markdown",
      "metadata": {
        "id": "b9d98e2d"
      },
      "source": [
        "### Menghapus non kms_driven"
      ],
      "id": "b9d98e2d"
    },
    {
      "cell_type": "code",
      "metadata": {
        "id": "417c108e"
      },
      "source": [
        "car=car[car['kms_driven'].str.isnumeric()]"
      ],
      "id": "417c108e",
      "execution_count": null,
      "outputs": []
    },
    {
      "cell_type": "markdown",
      "metadata": {
        "id": "4a3be64b"
      },
      "source": [
        "### Mengganti Dtype kms_driven dari object ke int"
      ],
      "id": "4a3be64b"
    },
    {
      "cell_type": "code",
      "metadata": {
        "id": "7e36a43e"
      },
      "source": [
        "car['kms_driven']=car['kms_driven'].astype(int)"
      ],
      "id": "7e36a43e",
      "execution_count": null,
      "outputs": []
    },
    {
      "cell_type": "markdown",
      "metadata": {
        "id": "51b61da6"
      },
      "source": [
        "### Menditeksi Data Yang hilang di fuel_type"
      ],
      "id": "51b61da6"
    },
    {
      "cell_type": "code",
      "metadata": {
        "id": "cff9a012"
      },
      "source": [
        "car=car[~car['fuel_type'].isna()]"
      ],
      "id": "cff9a012",
      "execution_count": null,
      "outputs": []
    },
    {
      "cell_type": "markdown",
      "metadata": {
        "id": "127e9630"
      },
      "source": [
        "### Menggambil 3 kata pertama di kolom name"
      ],
      "id": "127e9630"
    },
    {
      "cell_type": "code",
      "metadata": {
        "id": "d0d80aa7"
      },
      "source": [
        "car['name']=car['name'].str.split(' ').str.slice(0,3).str.join(' ')"
      ],
      "id": "d0d80aa7",
      "execution_count": null,
      "outputs": []
    },
    {
      "cell_type": "markdown",
      "metadata": {
        "id": "ed27aad1"
      },
      "source": [
        "### Setel ulang index"
      ],
      "id": "ed27aad1"
    },
    {
      "cell_type": "code",
      "metadata": {
        "id": "01468648"
      },
      "source": [
        "car=car[car['Price']<6e6].reset_index(drop=True)"
      ],
      "id": "01468648",
      "execution_count": null,
      "outputs": []
    },
    {
      "cell_type": "code",
      "metadata": {
        "id": "f06ad1ef"
      },
      "source": [
        "car=car.reset_index(drop=True)"
      ],
      "id": "f06ad1ef",
      "execution_count": null,
      "outputs": []
    },
    {
      "cell_type": "markdown",
      "metadata": {
        "id": "d3cac639"
      },
      "source": [
        "# Setelah Pre-Processing"
      ],
      "id": "d3cac639"
    },
    {
      "cell_type": "code",
      "metadata": {
        "id": "8bce11d2",
        "scrolled": true
      },
      "source": [
        "car"
      ],
      "id": "8bce11d2",
      "execution_count": null,
      "outputs": []
    },
    {
      "cell_type": "code",
      "metadata": {
        "id": "4c0961a7"
      },
      "source": [
        "car.describe()"
      ],
      "id": "4c0961a7",
      "execution_count": null,
      "outputs": []
    },
    {
      "cell_type": "code",
      "metadata": {
        "id": "c17d6799"
      },
      "source": [
        "car.info()"
      ],
      "id": "c17d6799",
      "execution_count": null,
      "outputs": []
    },
    {
      "cell_type": "code",
      "metadata": {
        "id": "d3571e6b"
      },
      "source": [
        "car.shape"
      ],
      "id": "d3571e6b",
      "execution_count": null,
      "outputs": []
    },
    {
      "cell_type": "markdown",
      "metadata": {
        "id": "008b44af"
      },
      "source": [
        "#  =======| Visualisasikan Data Setelah Pre-Processing |======="
      ],
      "id": "008b44af"
    },
    {
      "cell_type": "code",
      "metadata": {
        "id": "9af4a220"
      },
      "source": [
        "kategori=car[['company','year','Price','kms_driven','fuel_type']]\n",
        "kategori"
      ],
      "id": "9af4a220",
      "execution_count": null,
      "outputs": []
    },
    {
      "cell_type": "markdown",
      "metadata": {
        "id": "e305fe70"
      },
      "source": [
        "### Visualisasi numeric variable"
      ],
      "id": "e305fe70"
    },
    {
      "cell_type": "code",
      "metadata": {
        "id": "8b089f52"
      },
      "source": [
        "plt.figure(figsize=(15, 15))\n",
        "sns.pairplot(kategori)\n",
        "plt.show()"
      ],
      "id": "8b089f52",
      "execution_count": null,
      "outputs": []
    },
    {
      "cell_type": "markdown",
      "metadata": {
        "id": "8d5ba2a1"
      },
      "source": [
        "### check relasi antara company dengan price"
      ],
      "id": "8d5ba2a1"
    },
    {
      "cell_type": "code",
      "metadata": {
        "id": "5e2e0319"
      },
      "source": [
        "plt.subplots(figsize=(15,7))\n",
        "ax=sns.boxplot(x='company',y='Price',data=car)\n",
        "ax.set_xticklabels(ax.get_xticklabels(),rotation=40,ha='right')\n",
        "plt.show()"
      ],
      "id": "5e2e0319",
      "execution_count": null,
      "outputs": []
    },
    {
      "cell_type": "markdown",
      "metadata": {
        "id": "a4c389ca"
      },
      "source": [
        "### check relasi antara year dengan price"
      ],
      "id": "a4c389ca"
    },
    {
      "cell_type": "code",
      "metadata": {
        "id": "c808eb7e"
      },
      "source": [
        "plt.subplots(figsize=(20,10))\n",
        "ax=sns.swarmplot(x='year',y='Price',data=car)\n",
        "ax.set_xticklabels(ax.get_xticklabels(),rotation=40,ha='right')\n",
        "plt.show()"
      ],
      "id": "c808eb7e",
      "execution_count": null,
      "outputs": []
    },
    {
      "cell_type": "markdown",
      "metadata": {
        "id": "f72cb39d"
      },
      "source": [
        "### check relasi antara kms_driven dengan price"
      ],
      "id": "f72cb39d"
    },
    {
      "cell_type": "code",
      "metadata": {
        "id": "8641455c"
      },
      "source": [
        "sns.relplot(x='kms_driven',y='Price',data=car,height=7,aspect=1.5)"
      ],
      "id": "8641455c",
      "execution_count": null,
      "outputs": []
    },
    {
      "cell_type": "markdown",
      "metadata": {
        "id": "df30628d"
      },
      "source": [
        "### check relasi antara fuel type dengan price"
      ],
      "id": "df30628d"
    },
    {
      "cell_type": "code",
      "metadata": {
        "id": "f8b94483"
      },
      "source": [
        "plt.subplots(figsize=(14,7))\n",
        "sns.boxplot(x='fuel_type',y='Price',data=car)"
      ],
      "id": "f8b94483",
      "execution_count": null,
      "outputs": []
    },
    {
      "cell_type": "markdown",
      "metadata": {
        "id": "6b31328b"
      },
      "source": [
        "### Check Relasi Antara company dan fuel type dengan count"
      ],
      "id": "6b31328b"
    },
    {
      "cell_type": "code",
      "metadata": {
        "id": "aa66b8de"
      },
      "source": [
        "plt.subplots(figsize=(15,7))\n",
        "ax=sns.countplot('company',data=car,hue='fuel_type')\n",
        "ax.set_xticklabels(ax.get_xticklabels(),rotation=40,ha='right')\n",
        "plt.show()"
      ],
      "id": "aa66b8de",
      "execution_count": null,
      "outputs": []
    },
    {
      "cell_type": "markdown",
      "metadata": {
        "id": "fb82556b"
      },
      "source": [
        "### check relasi antara harga dengan fuel type, year and company"
      ],
      "id": "fb82556b"
    },
    {
      "cell_type": "code",
      "metadata": {
        "id": "l89Y85TGmTv4"
      },
      "source": [
        ""
      ],
      "id": "l89Y85TGmTv4",
      "execution_count": null,
      "outputs": []
    },
    {
      "cell_type": "code",
      "metadata": {
        "id": "b1ae2c36"
      },
      "source": [
        "ax=sns.relplot(x='company',y='Price',data=car,hue='fuel_type',size='year',height=7,aspect=2)\n",
        "ax.set_xticklabels(rotation=40,ha='right')"
      ],
      "id": "b1ae2c36",
      "execution_count": null,
      "outputs": []
    },
    {
      "cell_type": "markdown",
      "metadata": {
        "id": "0ab51476"
      },
      "source": [
        "# =================| ML ( Multiple Linear Regression) |======================"
      ],
      "id": "0ab51476"
    },
    {
      "cell_type": "markdown",
      "metadata": {
        "id": "ab9f7160"
      },
      "source": [
        "### Model"
      ],
      "id": "ab9f7160"
    },
    {
      "cell_type": "code",
      "metadata": {
        "id": "55a5947a"
      },
      "source": [
        "car.fillna(car.mean(),inplace=True)\n",
        "X= car.drop(['Price'],axis=1)\n",
        "y= car['Price']"
      ],
      "id": "55a5947a",
      "execution_count": null,
      "outputs": []
    },
    {
      "cell_type": "code",
      "metadata": {
        "id": "bf060189"
      },
      "source": [
        "from sklearn.model_selection import train_test_split\n",
        "train_test_split(X,y,test_size=0.2,random_state=0)"
      ],
      "id": "bf060189",
      "execution_count": null,
      "outputs": []
    },
    {
      "cell_type": "code",
      "metadata": {
        "id": "49b6a699"
      },
      "source": [
        "x_train, x_test, y_train, y_test=train_test_split(X,y,test_size=0.2,random_state=0)"
      ],
      "id": "49b6a699",
      "execution_count": null,
      "outputs": []
    },
    {
      "cell_type": "markdown",
      "metadata": {
        "id": "427f33a8"
      },
      "source": [
        "### Linear Regression"
      ],
      "id": "427f33a8"
    },
    {
      "cell_type": "markdown",
      "metadata": {
        "id": "6PNb5AYloOU3"
      },
      "source": [
        "Label = Price\n",
        "\n",
        "Features = Name, Company, Year, Kms_driven, fuel_type"
      ],
      "id": "6PNb5AYloOU3"
    },
    {
      "cell_type": "code",
      "metadata": {
        "id": "55611719"
      },
      "source": [
        "from sklearn.linear_model import LinearRegression\n",
        "from sklearn.metrics import r2_score\n",
        "from sklearn.preprocessing import OneHotEncoder\n",
        "from sklearn.compose import make_column_transformer\n",
        "from sklearn.pipeline import make_pipeline"
      ],
      "id": "55611719",
      "execution_count": null,
      "outputs": []
    },
    {
      "cell_type": "code",
      "metadata": {
        "id": "06eef78e"
      },
      "source": [
        "ohe= OneHotEncoder()\n",
        "ohe.fit(X[['name','company','fuel_type']])\n",
        "\n",
        "#mengubah data kategorikal menjadi data int"
      ],
      "id": "06eef78e",
      "execution_count": null,
      "outputs": []
    },
    {
      "cell_type": "code",
      "metadata": {
        "id": "3f848e20"
      },
      "source": [
        "ohe.categories_"
      ],
      "id": "3f848e20",
      "execution_count": null,
      "outputs": []
    },
    {
      "cell_type": "code",
      "metadata": {
        "id": "47128f1a"
      },
      "source": [
        "column_trans = make_column_transformer((OneHotEncoder(categories=ohe.categories_),['name','company','fuel_type']),\n",
        "                                        remainder='passthrough')"
      ],
      "id": "47128f1a",
      "execution_count": null,
      "outputs": []
    },
    {
      "cell_type": "code",
      "metadata": {
        "id": "653d4133"
      },
      "source": [
        "lr=LinearRegression()"
      ],
      "id": "653d4133",
      "execution_count": null,
      "outputs": []
    },
    {
      "cell_type": "code",
      "metadata": {
        "id": "158e91fd"
      },
      "source": [
        "pipe=make_pipeline(column_trans,lr)"
      ],
      "id": "158e91fd",
      "execution_count": null,
      "outputs": []
    },
    {
      "cell_type": "code",
      "metadata": {
        "id": "090501a0"
      },
      "source": [
        "pipe.fit(x_train,y_train)"
      ],
      "id": "090501a0",
      "execution_count": null,
      "outputs": []
    },
    {
      "cell_type": "code",
      "metadata": {
        "id": "f5b3dc08"
      },
      "source": [
        "y_pred=pipe.predict(x_test)"
      ],
      "id": "f5b3dc08",
      "execution_count": null,
      "outputs": []
    },
    {
      "cell_type": "code",
      "metadata": {
        "id": "994070db"
      },
      "source": [
        "# Untuk Testing Accuracy\n",
        "scores=[]\n",
        "for i in range(1000):\n",
        "        x_train, x_test, y_train, y_test=train_test_split(X,y,test_size=0.2, random_state=i)\n",
        "        lr=LinearRegression()\n",
        "        pipe=make_pipeline(column_trans,lr)\n",
        "        pipe.fit(x_train,y_train)\n",
        "        y_pred=pipe.predict(x_test)\n",
        "        scores.append(pipe.score(x_test,y_test))"
      ],
      "id": "994070db",
      "execution_count": null,
      "outputs": []
    },
    {
      "cell_type": "code",
      "metadata": {
        "id": "d8ee9ac9"
      },
      "source": [
        "scores=scores[np.argmax(scores)]"
      ],
      "id": "d8ee9ac9",
      "execution_count": null,
      "outputs": []
    },
    {
      "cell_type": "markdown",
      "metadata": {
        "id": "519b271b"
      },
      "source": [
        "# =====| Visualisasi Data Setelah Proses ML (Linear Regression) |======="
      ],
      "id": "519b271b"
    },
    {
      "cell_type": "code",
      "metadata": {
        "id": "93eb19d6"
      },
      "source": [
        "fig = plt.figure()\n",
        "plt.scatter(y_test,y_pred)\n",
        "fig.suptitle('y_test vs y_pred', fontsize=20)            \n",
        "plt.xlabel('y_test', fontsize=18)                          \n",
        "plt.ylabel('y_pred', fontsize=16)   "
      ],
      "id": "93eb19d6",
      "execution_count": null,
      "outputs": []
    },
    {
      "cell_type": "code",
      "metadata": {
        "id": "-YhmaXbTvs0j"
      },
      "source": [
        ""
      ],
      "id": "-YhmaXbTvs0j",
      "execution_count": null,
      "outputs": []
    },
    {
      "cell_type": "markdown",
      "metadata": {
        "id": "293491a2"
      },
      "source": [
        "# ====================| Training Accuracy  |======================="
      ],
      "id": "293491a2"
    },
    {
      "cell_type": "code",
      "metadata": {
        "id": "ded9a5f4"
      },
      "source": [
        "print('Training Accuracy :',pipe.score(x_train,y_train))"
      ],
      "id": "ded9a5f4",
      "execution_count": null,
      "outputs": []
    },
    {
      "cell_type": "markdown",
      "metadata": {
        "id": "e76f87bb"
      },
      "source": [
        "# ====================| Testing  Accuracy |======================="
      ],
      "id": "e76f87bb"
    },
    {
      "cell_type": "code",
      "metadata": {
        "id": "faefea9c"
      },
      "source": [
        "print('Testing accuracy :',scores)"
      ],
      "id": "faefea9c",
      "execution_count": null,
      "outputs": []
    },
    {
      "cell_type": "markdown",
      "metadata": {
        "id": "ySqhmFJEke2T"
      },
      "source": [
        ""
      ],
      "id": "ySqhmFJEke2T"
    },
    {
      "cell_type": "markdown",
      "metadata": {
        "id": "8qef1gVdkauR"
      },
      "source": [
        "##Koefisien##"
      ],
      "id": "8qef1gVdkauR"
    },
    {
      "cell_type": "markdown",
      "metadata": {
        "id": "e3ee0e6b"
      },
      "source": [
        "# ====================| Testing Prediction |======================="
      ],
      "id": "e3ee0e6b"
    },
    {
      "cell_type": "code",
      "metadata": {
        "id": "a8d82042",
        "colab": {
          "base_uri": "https://localhost:8080/"
        },
        "outputId": "48e17984-6989-47f5-b41d-fa0262a1d62f"
      },
      "source": [
        "companyy=input(\"company : \")\n",
        "modell=input(\"model : \")\n",
        "yearr=int(input(\"Tahun : \"))\n",
        "kms_drivenn=int(input(\"kms : \"))\n",
        "fuel_typee=input(\"Fuel : \")\n",
        "\n",
        "pipe.predict(pd.DataFrame(columns=['name','company','year','kms_driven','fuel_type'],data=np.array([modell,companyy,yearr,kms_drivenn,fuel_typee]).reshape(1,5)))"
      ],
      "id": "a8d82042",
      "execution_count": null,
      "outputs": [
        {
          "name": "stdout",
          "output_type": "stream",
          "text": [
            "company : Honda\n"
          ]
        }
      ]
    }
  ]
}